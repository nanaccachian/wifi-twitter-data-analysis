{
 "cells": [
  {
   "cell_type": "markdown",
   "id": "b5742f02",
   "metadata": {},
   "source": [
    "## Proovedores de Internet en Argentina "
   ]
  },
  {
   "cell_type": "markdown",
   "id": "f364e7e0",
   "metadata": {},
   "source": [
    "> Análisis de las quejas realizadas por usuarios de Twitter hacia los distintos proveedores de internet de la República Argentina"
   ]
  },
  {
   "cell_type": "markdown",
   "id": "9188b701",
   "metadata": {},
   "source": [
    "### 1. Primero realizamos la conexión entre Python y SQL Server "
   ]
  },
  {
   "cell_type": "code",
   "execution_count": 1,
   "id": "5915aff3",
   "metadata": {},
   "outputs": [
    {
     "name": "stdout",
     "output_type": "stream",
     "text": [
      "['dim_dates', 'dim_times', 'dim_users', 'dim_wifi_providers', 'fact_quotes', 'fact_replies', 'fact_retweets', 'fact_tweets', 'locations', 'raw_tweets', 'temporary_table', 'trips']\n"
     ]
    },
    {
     "name": "stderr",
     "output_type": "stream",
     "text": [
      "<ipython-input-1-674a419c6e52>:10: SADeprecationWarning: The Engine.table_names() method is deprecated and will be removed in a future release.  Please refer to Inspector.get_table_names(). (deprecated since: 1.4)\n",
      "  print(engine.table_names())\n"
     ]
    }
   ],
   "source": [
    "import pyodbc\n",
    "import sqlalchemy as sal\n",
    "from sqlalchemy import create_engine\n",
    "import pandas as pd\n",
    "server = 'hxsqldev02\\sql2016'\n",
    "database = 'Academy_Dev_Data_RFlor'\n",
    "driver = 'SQL Server'\n",
    "engine = sal.create_engine(f'mssql://{server}/{database}?driver={driver}')\n",
    "conn = engine.connect()\n",
    "print(engine.table_names())"
   ]
  },
  {
   "cell_type": "markdown",
   "id": "dd815be5",
   "metadata": {},
   "source": [
    "### 2. Realizamos un análisis de Pareto para tomar las empresas con mayor presencia en el mercado"
   ]
  },
  {
   "cell_type": "markdown",
   "id": "8324fe38",
   "metadata": {},
   "source": [
    "> El análisis de Pareto consiste en quedarse con, en este caso los proveedores, que concentran la mayor cantidad de quejas. Esta regla también es conocida como 80-20, explicando que el 80% de los problemas surjen de solo el 20% de la población."
   ]
  },
  {
   "cell_type": "code",
   "execution_count": 31,
   "id": "ba1e0f1f",
   "metadata": {},
   "outputs": [
    {
     "data": {
      "image/png": "[encoded data removed]",
      "text/plain": [
       "<Figure size 432x288 with 2 Axes>"
      ]
     },
     "metadata": {},
     "output_type": "display_data"
    }
   ],
   "source": [
    "import pandas as pd\n",
    "import matplotlib.pyplot as plt\n",
    "from matplotlib.ticker import PercentFormatter\n",
    "\n",
    "total = 7248280\n",
    "fib_tot = 0.46*total\n",
    "mov_tot = 0.17*total\n",
    "tele_tot = 0.12*total\n",
    "direc_tot = 0.01*total\n",
    "otros_tot = 0.24*total\n",
    "\n",
    "df = pd.DataFrame({'wp_num_users': [fib_tot, mov_tot, tele_tot, direc_tot, otros_tot]})\n",
    "df.index = ['Fibertel', 'Movistar', 'Telecentro', 'DirecTV', 'Otros']\n",
    "df = df.sort_values(by='wp_num_users',ascending=False)\n",
    "df[\"cumpercentage\"] = df[\"wp_num_users\"].cumsum()/df[\"wp_num_users\"].sum()*100\n",
    "\n",
    "\n",
    "fig, ax = plt.subplots()\n",
    "ax.bar(df.index, df[\"wp_num_users\"], color=\"C0\")\n",
    "ax2 = ax.twinx()\n",
    "ax2.plot(df.index, df[\"cumpercentage\"], color=\"C1\", marker=\"D\", ms=7)\n",
    "ax2.yaxis.set_major_formatter(PercentFormatter())\n",
    "\n",
    "ax.tick_params(axis=\"y\", colors=\"C0\")\n",
    "ax2.tick_params(axis=\"y\", colors=\"C1\")\n",
    "\n",
    "\n",
    "ylabel = plt.ylabel('Cantidad de clientes')\n",
    "plt.title('División del mercado argentino de internet fijo', fontsize = 14, fontweight='bold', \n",
    "          horizontalalignment='center')\n",
    "plt.show()"
   ]
  },
  {
   "cell_type": "markdown",
   "id": "5ef3378b",
   "metadata": {},
   "source": [
    "### 3. Aplicación de NLTK"
   ]
  },
  {
   "cell_type": "markdown",
   "id": "e6021388",
   "metadata": {},
   "source": [
    "> Realizamos un análisis de severidad de las quejas realizadas por los usuarios para intentar conocer un poco más el grado de enojo de los mismos. \n",
    "\n",
    ">Esto lo hacemos a través del uso de  NLTK, la cual es un conjunto de bibliotecas y programas para el procesamiento del lenguaje natural (PLN) simbólico y estadísticos para Python."
   ]
  },
  {
   "cell_type": "code",
   "execution_count": null,
   "id": "a895a39b",
   "metadata": {},
   "outputs": [],
   "source": []
  }
 ],
 "metadata": {
  "kernelspec": {
   "display_name": "Python 3",
   "language": "python",
   "name": "python3"
  },
  "language_info": {
   "codemirror_mode": {
    "name": "ipython",
    "version": 3
   },
   "file_extension": ".py",
   "mimetype": "text/x-python",
   "name": "python",
   "nbconvert_exporter": "python",
   "pygments_lexer": "ipython3",
   "version": "3.8.8"
  }
 },
 "nbformat": 4,
 "nbformat_minor": 5
}
